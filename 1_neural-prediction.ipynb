{
 "cells": [
  {
   "cell_type": "code",
   "execution_count": null,
   "metadata": {
    "collapsed": true
   },
   "outputs": [],
   "source": [
    "# oversimplified example of what a neural network is\n",
    "# focus on understnding what a prediction is\n",
    "\n",
    "weight = 0.1\n",
    "def neural_network(input, weight):\n",
    "    prediction = input * weight\n",
    "    return prediction\n",
    "\n",
    "number_of_toes = [8.5, 9.5, 10, 9]\n",
    "input = number_of_toes[0]\n",
    "pred = neural_network(input, weight)\n",
    "print(pred)"
   ]
  },
  {
   "cell_type": "code",
   "execution_count": null,
   "metadata": {
    "collapsed": true
   },
   "outputs": [],
   "source": [
    "# an empty neural network with multiple inputs\n",
    "\n",
    "# weighted sum\n",
    "def w_sum(a,b):\n",
    "    assert(len(a) == len(b))\n",
    "    output = 0\n",
    "    for i in range(len(a)):\n",
    "        output += (a[i] * b[i])\n",
    "        return output\n",
    "\n",
    "def neural_network(input, weights):\n",
    "    pred = w_sum(input, weights)\n",
    "    return pred\n",
    "\n",
    "# number of toes, number of games won, number of fans\n",
    "toes = [8.5, 9.5, 9.9, 9.0]\n",
    "wlrec = [0.65, 0.8, 0.8, 0.9]\n",
    "nfans = [1.2, 1.3, 0.5, 1.0]\n",
    "\n",
    "input = [toes[0], wlrec[0], nfans[0]]\n",
    "weights = [0.1, 0.2, 0]\n",
    "\n",
    "# prediction\n",
    "pred = neural_network(input, weights)\n",
    "print pred"
   ]
  },
  {
   "cell_type": "code",
   "execution_count": null,
   "metadata": {
    "collapsed": true
   },
   "outputs": [],
   "source": [
    "# understanding vectors and its properties\n",
    "\n",
    "a = [ 0, 1, 0, 1] \n",
    "b = [ 1, 0, 1, 0] \n",
    "c = [ 0, 1, 1, 0] \n",
    "d = [.5, 0,.5, 0] \n",
    "e = [ 0, 1,-1, 0]\n",
    "\n",
    "print w_sum(a,b)\n",
    "print w_sum(b,c)\n",
    "print w_sum(b,d)\n",
    "print w_sum(c,c)\n",
    "print w_sum(d,d)\n",
    "print w_sum(c,e)"
   ]
  },
  {
   "cell_type": "code",
   "execution_count": null,
   "metadata": {
    "collapsed": true
   },
   "outputs": [],
   "source": [
    "import numpy as np\n",
    "\n",
    "weights = np.array([0.1, 0.2, 0])\n",
    "\n",
    "# the numpy dot product\n",
    "def neural_network(input, weights):\n",
    "    pred = input.dot(weights)\n",
    "    return pred\n",
    "\n",
    "toes = np.array([8.5, 9.5, 9.9, 9.0]) \n",
    "wlrec = np.array([0.65, 0.8, 0.8, 0.9]) \n",
    "nfans = np.array([1.2, 1.3, 0.5, 1.0])\n",
    "\n",
    "input = np.array([toes[0],wlrec[0],nfans[0]]) \n",
    "pred = neural_network(input,weights) \n",
    "print(pred)\n",
    "        "
   ]
  },
  {
   "cell_type": "code",
   "execution_count": null,
   "metadata": {
    "collapsed": true
   },
   "outputs": [],
   "source": [
    "# neural networks can also make multiple predictions using only a single input\n",
    "\n",
    "weights = [0.3, 0.2, 0.9]\n",
    "\n",
    "def neural_network(input, weights):\n",
    "    pred = ele_mul(input,weights) \n",
    "    return pred\n",
    "\n",
    "# elementwise multiplication\n",
    "def ele_mul(number,vector):\n",
    "    output = [0,0,0]\n",
    "    assert(len(output) == len(vector))\n",
    "    for i in range(len(vector)): \n",
    "        output[i] = number * vector[i]\n",
    "        return output\n",
    "\n",
    "wlrec = [0.65, 0.8, 0.8, 0.9]\n",
    "input = wlrec[0]\n",
    "pred = neural_network(input,weights)\n",
    "print pred"
   ]
  },
  {
   "cell_type": "code",
   "execution_count": null,
   "metadata": {
    "collapsed": true
   },
   "outputs": [],
   "source": [
    "# making a prediction using multiple inputs & outputs\n",
    "            \n",
    "weights = [[0.1, 0.1, -0.3],\n",
    "           [0.1, 0.2, 0.0], \n",
    "           [0.0, 1.3, 0.1]]\n",
    "\n",
    "def neural_network(input, weights):\n",
    "    pred = vect_mat_mul(input, weights)\n",
    "    return pred\n",
    "\n",
    "#  is function iterates through each row of our weights \n",
    "# (each row is a vector), and makes a prediction using \n",
    "# our w_sum function. It is literally performing 3 consecutive \n",
    "# weighted sums and then storing their predictions in a vector \n",
    "# called \"output\".\n",
    "\n",
    "def vect_mat_mul(a, b):\n",
    "    assert(len(a) == len(b))\n",
    "    output = 0\n",
    "    for i in range(len(a)):\n",
    "        output += (a[i] * b[i])\n",
    "    return output\n",
    "\n",
    "toes = [8.5, 9.5, 9.9, 9.0] \n",
    "wlrec = [0.65,0.8, 0.8, 0.9] \n",
    "nfans = [1.2, 1.3, 0.5, 1.0]\n",
    "\n",
    "input = [toes[0],wlrec[0],nfans[0]] \n",
    "pred = neural_network(input,weights)\n",
    " "
   ]
  },
  {
   "cell_type": "code",
   "execution_count": null,
   "metadata": {
    "collapsed": true
   },
   "outputs": [],
   "source": [
    "# stacking neural networks\n",
    "\n",
    "ih_wgt = [[0.1, 0.2, -0.1],\n",
    "           [-0.1,0.1, 0.9], \n",
    "           [0.1, 0.4, 0.1]]\n",
    "\n",
    "hp_wgt = [[0.3, 1.1, -0.3],\n",
    "          [0.1, 0.2, 0.0],\n",
    "          [0.0,1.3,0.1]]\n",
    "\n",
    "weights = [ih_wgt, hp_wgt]\n",
    "\n",
    "def neural_network(input, weights):\n",
    "    hid = vect_mat_mul(input,weights[0]) \n",
    "    pred = vect_mat_mul(hid,weights[1]) \n",
    "    return pred\n",
    "\n",
    "toes = [8.5, 9.5, 9.9, 9.0] \n",
    "wlrec = [0.65,0.8, 0.8, 0.9] \n",
    "nfans = [1.2, 1.3, 0.5, 1.0]\n",
    "\n",
    "input = [toes[0],wlrec[0],nfans[0]]\n",
    "pred = neural_network(input,weight)"
   ]
  },
  {
   "cell_type": "code",
   "execution_count": null,
   "metadata": {
    "collapsed": true
   },
   "outputs": [],
   "source": [
    "# stacked, numpy version\n",
    "\n",
    "import numpy as np\n",
    "\n",
    "ih_wgt = np.array([\n",
    "             [0.1, 0.2, -0.1],\n",
    "             [-0.1,0.1, 0.9],\n",
    "             [0.1, 0.4, 0.1]]).T\n",
    "hp_wgt = np.array([\n",
    "         [0.3, 1.1, -0.3],\n",
    "         [0.1, 0.2, 0.0], \n",
    "         [0.0, 1.3, 0.1]]).T\n",
    "              \n",
    "weights = [ih_wgt, hp_wgt]\n",
    "                    \n",
    "def neural_network(input, weights):\n",
    "    hid = input.dot(weights[0]) \n",
    "    pred = hid.dot(weights[1]) \n",
    "    return pred\n",
    "                    \n",
    "toes = np.array([8.5, 9.5, 9.9, 9.0]) \n",
    "wlrec = np.array([0.65,0.8, 0.8, 0.9])  \n",
    "nfans = np.array([1.2, 1.3, 0.5, 1.0])\n",
    "                    \n",
    "input = np.array([toes[0],wlrec[0],nfans[0]])\n",
    "                    \n",
    "pred = neural_network(input,weights) \n",
    "print pred"
   ]
  },
  {
   "cell_type": "code",
   "execution_count": null,
   "metadata": {},
   "outputs": [],
   "source": [
    "# numpy notes\n",
    "# dot products, elementwise multiplication and addition, as well as vector-matrix multiplication\n",
    "import numpy as np\n",
    "\n",
    "a = np.array([0,1,2,3]) # a vector\n",
    "b = np.array([4,5,6,7]) # another vector \n",
    "c = np.array([[0,1,2,3],# a matrix\n",
    "              [4,5,6,7]])\n",
    "d = np.zeros((2,4))#(2x4 matrix of zeros) \n",
    "e = np.random.rand(2,5) # random 2x5\n",
    "\n",
    "# matrix with all numbers between 0 and 1\n",
    "print a\n",
    "print b\n",
    "print c\n",
    "print d\n",
    "print e"
   ]
  },
  {
   "cell_type": "code",
   "execution_count": null,
   "metadata": {},
   "outputs": [],
   "source": [
    "print a * 0.1 # multiplies every number in vector \"a\" by 0.1\n",
    "print c * 0.2 # multiplies every number in matrix \"c\" by 0.2\n",
    "print a * b # multiplies elementwise between a and b (columns paired up) \n",
    "print a * b * 0.2 # elementwise multiplication then multiplied by 0.2 \n",
    "print a * c # since c has the same number of columns as a, this performs # elementwise multiplication on every row of the matrix \"c\"\n",
    "print a * e # since a and e don't have the same number of columns, this # throws a \"Value Error: operands could not be broadcast together with..\""
   ]
  },
  {
   "cell_type": "code",
   "execution_count": null,
   "metadata": {
    "collapsed": true
   },
   "outputs": [],
   "source": []
  }
 ],
 "metadata": {
  "kernelspec": {
   "display_name": "Python 2",
   "language": "python",
   "name": "python2"
  },
  "language_info": {
   "codemirror_mode": {
    "name": "ipython",
    "version": 2
   },
   "file_extension": ".py",
   "mimetype": "text/x-python",
   "name": "python",
   "nbconvert_exporter": "python",
   "pygments_lexer": "ipython2",
   "version": "2.7.13"
  }
 },
 "nbformat": 4,
 "nbformat_minor": 2
}
